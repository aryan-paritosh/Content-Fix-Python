{
 "cells": [
  {
   "cell_type": "code",
   "execution_count": 1,
   "metadata": {},
   "outputs": [
    {
     "name": "stdout",
     "output_type": "stream",
     "text": [
      "aryan\n"
     ]
    }
   ],
   "source": [
    "replace_list = [\"Ò\",\"Ó\",\".\",\"Õ\",\"Ò\",\"Ó\",\"@ \",\"@. @. @\",\"@\\\"\",\"couldn't\",\"can't\",\"I'm\",\"It's\",]\n",
    "to_be_replaced_list = [\"\\\"\",\"\\\"\",\". @\", \"\\'\", \"\\\"\", \"\\\"\", \"@\", \"\", \"\\\"\", \"could not\", \"cannot\", \"I am\", \"It is\"]\n",
    "\n",
    "def amira_upgra():\n",
    "    x=input(\"Enter the story:\")\n",
    "    for i in range(len(replace_list)):\n",
    "        x=x.replace(replace_list[i], to_be_replaced_list[i])\n",
    "    print(x)\n",
    "\n",
    "amira_upgra()"
   ]
  }
 ],
 "metadata": {
  "kernelspec": {
   "display_name": "Python 3",
   "language": "python",
   "name": "python3"
  },
  "language_info": {
   "codemirror_mode": {
    "name": "ipython",
    "version": 3
   },
   "file_extension": ".py",
   "mimetype": "text/x-python",
   "name": "python",
   "nbconvert_exporter": "python",
   "pygments_lexer": "ipython3",
   "version": "3.11.4"
  },
  "orig_nbformat": 4
 },
 "nbformat": 4,
 "nbformat_minor": 2
}
